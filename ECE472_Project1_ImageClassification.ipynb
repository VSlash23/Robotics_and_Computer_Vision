{
  "nbformat": 4,
  "nbformat_minor": 0,
  "metadata": {
    "colab": {
      "provenance": [],
      "gpuType": "T4"
    },
    "kernelspec": {
      "name": "python3",
      "display_name": "Python 3"
    },
    "language_info": {
      "name": "python"
    },
    "accelerator": "GPU"
  },
  "cells": [
    {
      "cell_type": "code",
      "execution_count": 6,
      "metadata": {
        "id": "665RkRheWF4R"
      },
      "outputs": [],
      "source": [
        "import torch\n",
        "from torchvision import models, transforms\n",
        "from PIL import Image\n",
        "import matplotlib.pyplot as plt\n",
        "import numpy as np\n",
        "from sklearn.metrics import confusion_matrix, classification_report\n"
      ]
    },
    {
      "cell_type": "code",
      "source": [
        "# Load the pre-trained ResNet50 model\n",
        "model = models.resnet50(pretrained=True)\n",
        "model.eval()  # Set the model to evaluation mode\n"
      ],
      "metadata": {
        "colab": {
          "base_uri": "https://localhost:8080/"
        },
        "id": "r5QFKcRtXIR6",
        "outputId": "90e34ce5-0986-4ad0-e3e2-c63bb663c424"
      },
      "execution_count": 7,
      "outputs": [
        {
          "output_type": "stream",
          "name": "stderr",
          "text": [
            "/usr/local/lib/python3.10/dist-packages/torchvision/models/_utils.py:208: UserWarning: The parameter 'pretrained' is deprecated since 0.13 and may be removed in the future, please use 'weights' instead.\n",
            "  warnings.warn(\n",
            "/usr/local/lib/python3.10/dist-packages/torchvision/models/_utils.py:223: UserWarning: Arguments other than a weight enum or `None` for 'weights' are deprecated since 0.13 and may be removed in the future. The current behavior is equivalent to passing `weights=ResNet50_Weights.IMAGENET1K_V1`. You can also use `weights=ResNet50_Weights.DEFAULT` to get the most up-to-date weights.\n",
            "  warnings.warn(msg)\n",
            "Downloading: \"https://download.pytorch.org/models/resnet50-0676ba61.pth\" to /root/.cache/torch/hub/checkpoints/resnet50-0676ba61.pth\n",
            "100%|██████████| 97.8M/97.8M [00:00<00:00, 149MB/s]\n"
          ]
        },
        {
          "output_type": "execute_result",
          "data": {
            "text/plain": [
              "ResNet(\n",
              "  (conv1): Conv2d(3, 64, kernel_size=(7, 7), stride=(2, 2), padding=(3, 3), bias=False)\n",
              "  (bn1): BatchNorm2d(64, eps=1e-05, momentum=0.1, affine=True, track_running_stats=True)\n",
              "  (relu): ReLU(inplace=True)\n",
              "  (maxpool): MaxPool2d(kernel_size=3, stride=2, padding=1, dilation=1, ceil_mode=False)\n",
              "  (layer1): Sequential(\n",
              "    (0): Bottleneck(\n",
              "      (conv1): Conv2d(64, 64, kernel_size=(1, 1), stride=(1, 1), bias=False)\n",
              "      (bn1): BatchNorm2d(64, eps=1e-05, momentum=0.1, affine=True, track_running_stats=True)\n",
              "      (conv2): Conv2d(64, 64, kernel_size=(3, 3), stride=(1, 1), padding=(1, 1), bias=False)\n",
              "      (bn2): BatchNorm2d(64, eps=1e-05, momentum=0.1, affine=True, track_running_stats=True)\n",
              "      (conv3): Conv2d(64, 256, kernel_size=(1, 1), stride=(1, 1), bias=False)\n",
              "      (bn3): BatchNorm2d(256, eps=1e-05, momentum=0.1, affine=True, track_running_stats=True)\n",
              "      (relu): ReLU(inplace=True)\n",
              "      (downsample): Sequential(\n",
              "        (0): Conv2d(64, 256, kernel_size=(1, 1), stride=(1, 1), bias=False)\n",
              "        (1): BatchNorm2d(256, eps=1e-05, momentum=0.1, affine=True, track_running_stats=True)\n",
              "      )\n",
              "    )\n",
              "    (1): Bottleneck(\n",
              "      (conv1): Conv2d(256, 64, kernel_size=(1, 1), stride=(1, 1), bias=False)\n",
              "      (bn1): BatchNorm2d(64, eps=1e-05, momentum=0.1, affine=True, track_running_stats=True)\n",
              "      (conv2): Conv2d(64, 64, kernel_size=(3, 3), stride=(1, 1), padding=(1, 1), bias=False)\n",
              "      (bn2): BatchNorm2d(64, eps=1e-05, momentum=0.1, affine=True, track_running_stats=True)\n",
              "      (conv3): Conv2d(64, 256, kernel_size=(1, 1), stride=(1, 1), bias=False)\n",
              "      (bn3): BatchNorm2d(256, eps=1e-05, momentum=0.1, affine=True, track_running_stats=True)\n",
              "      (relu): ReLU(inplace=True)\n",
              "    )\n",
              "    (2): Bottleneck(\n",
              "      (conv1): Conv2d(256, 64, kernel_size=(1, 1), stride=(1, 1), bias=False)\n",
              "      (bn1): BatchNorm2d(64, eps=1e-05, momentum=0.1, affine=True, track_running_stats=True)\n",
              "      (conv2): Conv2d(64, 64, kernel_size=(3, 3), stride=(1, 1), padding=(1, 1), bias=False)\n",
              "      (bn2): BatchNorm2d(64, eps=1e-05, momentum=0.1, affine=True, track_running_stats=True)\n",
              "      (conv3): Conv2d(64, 256, kernel_size=(1, 1), stride=(1, 1), bias=False)\n",
              "      (bn3): BatchNorm2d(256, eps=1e-05, momentum=0.1, affine=True, track_running_stats=True)\n",
              "      (relu): ReLU(inplace=True)\n",
              "    )\n",
              "  )\n",
              "  (layer2): Sequential(\n",
              "    (0): Bottleneck(\n",
              "      (conv1): Conv2d(256, 128, kernel_size=(1, 1), stride=(1, 1), bias=False)\n",
              "      (bn1): BatchNorm2d(128, eps=1e-05, momentum=0.1, affine=True, track_running_stats=True)\n",
              "      (conv2): Conv2d(128, 128, kernel_size=(3, 3), stride=(2, 2), padding=(1, 1), bias=False)\n",
              "      (bn2): BatchNorm2d(128, eps=1e-05, momentum=0.1, affine=True, track_running_stats=True)\n",
              "      (conv3): Conv2d(128, 512, kernel_size=(1, 1), stride=(1, 1), bias=False)\n",
              "      (bn3): BatchNorm2d(512, eps=1e-05, momentum=0.1, affine=True, track_running_stats=True)\n",
              "      (relu): ReLU(inplace=True)\n",
              "      (downsample): Sequential(\n",
              "        (0): Conv2d(256, 512, kernel_size=(1, 1), stride=(2, 2), bias=False)\n",
              "        (1): BatchNorm2d(512, eps=1e-05, momentum=0.1, affine=True, track_running_stats=True)\n",
              "      )\n",
              "    )\n",
              "    (1): Bottleneck(\n",
              "      (conv1): Conv2d(512, 128, kernel_size=(1, 1), stride=(1, 1), bias=False)\n",
              "      (bn1): BatchNorm2d(128, eps=1e-05, momentum=0.1, affine=True, track_running_stats=True)\n",
              "      (conv2): Conv2d(128, 128, kernel_size=(3, 3), stride=(1, 1), padding=(1, 1), bias=False)\n",
              "      (bn2): BatchNorm2d(128, eps=1e-05, momentum=0.1, affine=True, track_running_stats=True)\n",
              "      (conv3): Conv2d(128, 512, kernel_size=(1, 1), stride=(1, 1), bias=False)\n",
              "      (bn3): BatchNorm2d(512, eps=1e-05, momentum=0.1, affine=True, track_running_stats=True)\n",
              "      (relu): ReLU(inplace=True)\n",
              "    )\n",
              "    (2): Bottleneck(\n",
              "      (conv1): Conv2d(512, 128, kernel_size=(1, 1), stride=(1, 1), bias=False)\n",
              "      (bn1): BatchNorm2d(128, eps=1e-05, momentum=0.1, affine=True, track_running_stats=True)\n",
              "      (conv2): Conv2d(128, 128, kernel_size=(3, 3), stride=(1, 1), padding=(1, 1), bias=False)\n",
              "      (bn2): BatchNorm2d(128, eps=1e-05, momentum=0.1, affine=True, track_running_stats=True)\n",
              "      (conv3): Conv2d(128, 512, kernel_size=(1, 1), stride=(1, 1), bias=False)\n",
              "      (bn3): BatchNorm2d(512, eps=1e-05, momentum=0.1, affine=True, track_running_stats=True)\n",
              "      (relu): ReLU(inplace=True)\n",
              "    )\n",
              "    (3): Bottleneck(\n",
              "      (conv1): Conv2d(512, 128, kernel_size=(1, 1), stride=(1, 1), bias=False)\n",
              "      (bn1): BatchNorm2d(128, eps=1e-05, momentum=0.1, affine=True, track_running_stats=True)\n",
              "      (conv2): Conv2d(128, 128, kernel_size=(3, 3), stride=(1, 1), padding=(1, 1), bias=False)\n",
              "      (bn2): BatchNorm2d(128, eps=1e-05, momentum=0.1, affine=True, track_running_stats=True)\n",
              "      (conv3): Conv2d(128, 512, kernel_size=(1, 1), stride=(1, 1), bias=False)\n",
              "      (bn3): BatchNorm2d(512, eps=1e-05, momentum=0.1, affine=True, track_running_stats=True)\n",
              "      (relu): ReLU(inplace=True)\n",
              "    )\n",
              "  )\n",
              "  (layer3): Sequential(\n",
              "    (0): Bottleneck(\n",
              "      (conv1): Conv2d(512, 256, kernel_size=(1, 1), stride=(1, 1), bias=False)\n",
              "      (bn1): BatchNorm2d(256, eps=1e-05, momentum=0.1, affine=True, track_running_stats=True)\n",
              "      (conv2): Conv2d(256, 256, kernel_size=(3, 3), stride=(2, 2), padding=(1, 1), bias=False)\n",
              "      (bn2): BatchNorm2d(256, eps=1e-05, momentum=0.1, affine=True, track_running_stats=True)\n",
              "      (conv3): Conv2d(256, 1024, kernel_size=(1, 1), stride=(1, 1), bias=False)\n",
              "      (bn3): BatchNorm2d(1024, eps=1e-05, momentum=0.1, affine=True, track_running_stats=True)\n",
              "      (relu): ReLU(inplace=True)\n",
              "      (downsample): Sequential(\n",
              "        (0): Conv2d(512, 1024, kernel_size=(1, 1), stride=(2, 2), bias=False)\n",
              "        (1): BatchNorm2d(1024, eps=1e-05, momentum=0.1, affine=True, track_running_stats=True)\n",
              "      )\n",
              "    )\n",
              "    (1): Bottleneck(\n",
              "      (conv1): Conv2d(1024, 256, kernel_size=(1, 1), stride=(1, 1), bias=False)\n",
              "      (bn1): BatchNorm2d(256, eps=1e-05, momentum=0.1, affine=True, track_running_stats=True)\n",
              "      (conv2): Conv2d(256, 256, kernel_size=(3, 3), stride=(1, 1), padding=(1, 1), bias=False)\n",
              "      (bn2): BatchNorm2d(256, eps=1e-05, momentum=0.1, affine=True, track_running_stats=True)\n",
              "      (conv3): Conv2d(256, 1024, kernel_size=(1, 1), stride=(1, 1), bias=False)\n",
              "      (bn3): BatchNorm2d(1024, eps=1e-05, momentum=0.1, affine=True, track_running_stats=True)\n",
              "      (relu): ReLU(inplace=True)\n",
              "    )\n",
              "    (2): Bottleneck(\n",
              "      (conv1): Conv2d(1024, 256, kernel_size=(1, 1), stride=(1, 1), bias=False)\n",
              "      (bn1): BatchNorm2d(256, eps=1e-05, momentum=0.1, affine=True, track_running_stats=True)\n",
              "      (conv2): Conv2d(256, 256, kernel_size=(3, 3), stride=(1, 1), padding=(1, 1), bias=False)\n",
              "      (bn2): BatchNorm2d(256, eps=1e-05, momentum=0.1, affine=True, track_running_stats=True)\n",
              "      (conv3): Conv2d(256, 1024, kernel_size=(1, 1), stride=(1, 1), bias=False)\n",
              "      (bn3): BatchNorm2d(1024, eps=1e-05, momentum=0.1, affine=True, track_running_stats=True)\n",
              "      (relu): ReLU(inplace=True)\n",
              "    )\n",
              "    (3): Bottleneck(\n",
              "      (conv1): Conv2d(1024, 256, kernel_size=(1, 1), stride=(1, 1), bias=False)\n",
              "      (bn1): BatchNorm2d(256, eps=1e-05, momentum=0.1, affine=True, track_running_stats=True)\n",
              "      (conv2): Conv2d(256, 256, kernel_size=(3, 3), stride=(1, 1), padding=(1, 1), bias=False)\n",
              "      (bn2): BatchNorm2d(256, eps=1e-05, momentum=0.1, affine=True, track_running_stats=True)\n",
              "      (conv3): Conv2d(256, 1024, kernel_size=(1, 1), stride=(1, 1), bias=False)\n",
              "      (bn3): BatchNorm2d(1024, eps=1e-05, momentum=0.1, affine=True, track_running_stats=True)\n",
              "      (relu): ReLU(inplace=True)\n",
              "    )\n",
              "    (4): Bottleneck(\n",
              "      (conv1): Conv2d(1024, 256, kernel_size=(1, 1), stride=(1, 1), bias=False)\n",
              "      (bn1): BatchNorm2d(256, eps=1e-05, momentum=0.1, affine=True, track_running_stats=True)\n",
              "      (conv2): Conv2d(256, 256, kernel_size=(3, 3), stride=(1, 1), padding=(1, 1), bias=False)\n",
              "      (bn2): BatchNorm2d(256, eps=1e-05, momentum=0.1, affine=True, track_running_stats=True)\n",
              "      (conv3): Conv2d(256, 1024, kernel_size=(1, 1), stride=(1, 1), bias=False)\n",
              "      (bn3): BatchNorm2d(1024, eps=1e-05, momentum=0.1, affine=True, track_running_stats=True)\n",
              "      (relu): ReLU(inplace=True)\n",
              "    )\n",
              "    (5): Bottleneck(\n",
              "      (conv1): Conv2d(1024, 256, kernel_size=(1, 1), stride=(1, 1), bias=False)\n",
              "      (bn1): BatchNorm2d(256, eps=1e-05, momentum=0.1, affine=True, track_running_stats=True)\n",
              "      (conv2): Conv2d(256, 256, kernel_size=(3, 3), stride=(1, 1), padding=(1, 1), bias=False)\n",
              "      (bn2): BatchNorm2d(256, eps=1e-05, momentum=0.1, affine=True, track_running_stats=True)\n",
              "      (conv3): Conv2d(256, 1024, kernel_size=(1, 1), stride=(1, 1), bias=False)\n",
              "      (bn3): BatchNorm2d(1024, eps=1e-05, momentum=0.1, affine=True, track_running_stats=True)\n",
              "      (relu): ReLU(inplace=True)\n",
              "    )\n",
              "  )\n",
              "  (layer4): Sequential(\n",
              "    (0): Bottleneck(\n",
              "      (conv1): Conv2d(1024, 512, kernel_size=(1, 1), stride=(1, 1), bias=False)\n",
              "      (bn1): BatchNorm2d(512, eps=1e-05, momentum=0.1, affine=True, track_running_stats=True)\n",
              "      (conv2): Conv2d(512, 512, kernel_size=(3, 3), stride=(2, 2), padding=(1, 1), bias=False)\n",
              "      (bn2): BatchNorm2d(512, eps=1e-05, momentum=0.1, affine=True, track_running_stats=True)\n",
              "      (conv3): Conv2d(512, 2048, kernel_size=(1, 1), stride=(1, 1), bias=False)\n",
              "      (bn3): BatchNorm2d(2048, eps=1e-05, momentum=0.1, affine=True, track_running_stats=True)\n",
              "      (relu): ReLU(inplace=True)\n",
              "      (downsample): Sequential(\n",
              "        (0): Conv2d(1024, 2048, kernel_size=(1, 1), stride=(2, 2), bias=False)\n",
              "        (1): BatchNorm2d(2048, eps=1e-05, momentum=0.1, affine=True, track_running_stats=True)\n",
              "      )\n",
              "    )\n",
              "    (1): Bottleneck(\n",
              "      (conv1): Conv2d(2048, 512, kernel_size=(1, 1), stride=(1, 1), bias=False)\n",
              "      (bn1): BatchNorm2d(512, eps=1e-05, momentum=0.1, affine=True, track_running_stats=True)\n",
              "      (conv2): Conv2d(512, 512, kernel_size=(3, 3), stride=(1, 1), padding=(1, 1), bias=False)\n",
              "      (bn2): BatchNorm2d(512, eps=1e-05, momentum=0.1, affine=True, track_running_stats=True)\n",
              "      (conv3): Conv2d(512, 2048, kernel_size=(1, 1), stride=(1, 1), bias=False)\n",
              "      (bn3): BatchNorm2d(2048, eps=1e-05, momentum=0.1, affine=True, track_running_stats=True)\n",
              "      (relu): ReLU(inplace=True)\n",
              "    )\n",
              "    (2): Bottleneck(\n",
              "      (conv1): Conv2d(2048, 512, kernel_size=(1, 1), stride=(1, 1), bias=False)\n",
              "      (bn1): BatchNorm2d(512, eps=1e-05, momentum=0.1, affine=True, track_running_stats=True)\n",
              "      (conv2): Conv2d(512, 512, kernel_size=(3, 3), stride=(1, 1), padding=(1, 1), bias=False)\n",
              "      (bn2): BatchNorm2d(512, eps=1e-05, momentum=0.1, affine=True, track_running_stats=True)\n",
              "      (conv3): Conv2d(512, 2048, kernel_size=(1, 1), stride=(1, 1), bias=False)\n",
              "      (bn3): BatchNorm2d(2048, eps=1e-05, momentum=0.1, affine=True, track_running_stats=True)\n",
              "      (relu): ReLU(inplace=True)\n",
              "    )\n",
              "  )\n",
              "  (avgpool): AdaptiveAvgPool2d(output_size=(1, 1))\n",
              "  (fc): Linear(in_features=2048, out_features=1000, bias=True)\n",
              ")"
            ]
          },
          "metadata": {},
          "execution_count": 7
        }
      ]
    },
    {
      "cell_type": "code",
      "source": [
        "# Define transformations to resize and normalize the image\n",
        "preprocess = transforms.Compose([\n",
        "    transforms.Resize(256),       # Resize the image to 256x256 pixels\n",
        "    transforms.CenterCrop(224),   # Crop it to 224x224 pixels, the input size expected by ResNet\n",
        "    transforms.ToTensor(),        # Convert the image to a PyTorch tensor\n",
        "    transforms.Normalize(\n",
        "        mean=[0.485, 0.456, 0.406],  # ImageNet mean values for normalization\n",
        "        std=[0.229, 0.224, 0.225]    # ImageNet std deviation values for normalization\n",
        "    )\n",
        "])\n"
      ],
      "metadata": {
        "id": "wfDiO8LVXRVD"
      },
      "execution_count": 8,
      "outputs": []
    },
    {
      "cell_type": "code",
      "source": [
        "# Download images directly into Colab with updated URLs\n",
        "!wget -O cat1.jpg https://images.unsplash.com/photo-1574158622682-e40e69881006\n",
        "!wget -O cat2.jpg https://images.unsplash.com/photo-1543852786-1cf6624b9987?crop=entropy&cs=tinysrgb&fit=max&fm=jpg&ixid=MnwzNjUyOXwwfDF8c2VhcmNofDR8fGNhdHxlbnwwfHx8fDE2MzUyNTUwNjM&ixlib=rb-1.2.1&q=80&w=400\n",
        "!wget -O dog1.jpg https://images.unsplash.com/photo-1517849845537-4d257902454a\n",
        "!wget -O dog2.jpg https://images.unsplash.com/photo-1525253086316-d0c936c814f8\n",
        "!wget -O car1.jpg https://images.unsplash.com/photo-1493238792000-8113da705763\n",
        "!wget -O car2.jpg https://images.unsplash.com/photo-1502877338535-766e1452684a\n",
        "!wget -O flower1.jpg https://images.unsplash.com/photo-1501004318641-b39e6451bec6\n",
        "!wget -O flower2.jpg https://images.unsplash.com/photo-1516979187457-637abb4f9353\n",
        "!!wget -O bird1.jpg https://images.unsplash.com/photo-1557683316-973673baf926\n",
        "!wget -O bird2.jpg https://images.unsplash.com/photo-1557683316-973673baf926\n"
      ],
      "metadata": {
        "colab": {
          "base_uri": "https://localhost:8080/"
        },
        "id": "kkFOqntVXWq2",
        "outputId": "4a41e857-217d-4544-ddad-314eb6eaaf64"
      },
      "execution_count": 9,
      "outputs": [
        {
          "output_type": "stream",
          "name": "stdout",
          "text": [
            "--2024-10-31 22:55:38--  https://images.unsplash.com/photo-1574158622682-e40e69881006\n",
            "Resolving images.unsplash.com (images.unsplash.com)... 151.101.2.208, 151.101.66.208, 151.101.130.208, ...\n",
            "Connecting to images.unsplash.com (images.unsplash.com)|151.101.2.208|:443... connected.\n",
            "HTTP request sent, awaiting response... 200 OK\n",
            "Length: 900980 (880K) [image/jpeg]\n",
            "Saving to: ‘cat1.jpg’\n",
            "\n",
            "cat1.jpg            100%[===================>] 879.86K  --.-KB/s    in 0.04s   \n",
            "\n",
            "2024-10-31 22:55:38 (24.5 MB/s) - ‘cat1.jpg’ saved [900980/900980]\n",
            "\n",
            "--2024-10-31 22:55:38--  https://images.unsplash.com/photo-1543852786-1cf6624b9987?crop=entropy\n",
            "Resolving images.unsplash.com (images.unsplash.com)... 151.101.2.208, 151.101.66.208, 151.101.130.208, ...\n",
            "Connecting to images.unsplash.com (images.unsplash.com)|151.101.2.208|:443... connected.\n",
            "HTTP request sent, awaiting response... 200 OK\n",
            "Length: 5517104 (5.3M) [image/jpeg]\n",
            "Saving to: ‘cat2.jpg’\n",
            "\n",
            "cat2.jpg            100%[===================>]   5.26M  --.-KB/s    in 0.06s   \n",
            "\n",
            "2024-10-31 22:55:39 (83.5 MB/s) - ‘cat2.jpg’ saved [5517104/5517104]\n",
            "\n",
            "--2024-10-31 22:55:39--  https://images.unsplash.com/photo-1517849845537-4d257902454a\n",
            "Resolving images.unsplash.com (images.unsplash.com)... 151.101.2.208, 151.101.66.208, 151.101.130.208, ...\n",
            "Connecting to images.unsplash.com (images.unsplash.com)|151.101.2.208|:443... connected.\n",
            "HTTP request sent, awaiting response... 200 OK\n",
            "Length: 1202599 (1.1M) [image/jpeg]\n",
            "Saving to: ‘dog1.jpg’\n",
            "\n",
            "dog1.jpg            100%[===================>]   1.15M  --.-KB/s    in 0.04s   \n",
            "\n",
            "2024-10-31 22:55:39 (26.2 MB/s) - ‘dog1.jpg’ saved [1202599/1202599]\n",
            "\n",
            "--2024-10-31 22:55:39--  https://images.unsplash.com/photo-1525253086316-d0c936c814f8\n",
            "Resolving images.unsplash.com (images.unsplash.com)... 151.101.2.208, 151.101.66.208, 151.101.130.208, ...\n",
            "Connecting to images.unsplash.com (images.unsplash.com)|151.101.2.208|:443... connected.\n",
            "HTTP request sent, awaiting response... 200 OK\n",
            "Length: 3135983 (3.0M) [image/jpeg]\n",
            "Saving to: ‘dog2.jpg’\n",
            "\n",
            "dog2.jpg            100%[===================>]   2.99M  --.-KB/s    in 0.05s   \n",
            "\n",
            "2024-10-31 22:55:39 (56.5 MB/s) - ‘dog2.jpg’ saved [3135983/3135983]\n",
            "\n",
            "--2024-10-31 22:55:39--  https://images.unsplash.com/photo-1493238792000-8113da705763\n",
            "Resolving images.unsplash.com (images.unsplash.com)... 151.101.2.208, 151.101.66.208, 151.101.130.208, ...\n",
            "Connecting to images.unsplash.com (images.unsplash.com)|151.101.2.208|:443... connected.\n",
            "HTTP request sent, awaiting response... 200 OK\n",
            "Length: 6502087 (6.2M) [image/jpeg]\n",
            "Saving to: ‘car1.jpg’\n",
            "\n",
            "car1.jpg            100%[===================>]   6.20M  --.-KB/s    in 0.06s   \n",
            "\n",
            "2024-10-31 22:55:39 (97.2 MB/s) - ‘car1.jpg’ saved [6502087/6502087]\n",
            "\n",
            "--2024-10-31 22:55:39--  https://images.unsplash.com/photo-1502877338535-766e1452684a\n",
            "Resolving images.unsplash.com (images.unsplash.com)... 151.101.2.208, 151.101.66.208, 151.101.130.208, ...\n",
            "Connecting to images.unsplash.com (images.unsplash.com)|151.101.2.208|:443... connected.\n",
            "HTTP request sent, awaiting response... 200 OK\n",
            "Length: 5877905 (5.6M) [image/jpeg]\n",
            "Saving to: ‘car2.jpg’\n",
            "\n",
            "car2.jpg            100%[===================>]   5.61M  --.-KB/s    in 0.06s   \n",
            "\n",
            "2024-10-31 22:55:40 (89.2 MB/s) - ‘car2.jpg’ saved [5877905/5877905]\n",
            "\n",
            "--2024-10-31 22:55:40--  https://images.unsplash.com/photo-1501004318641-b39e6451bec6\n",
            "Resolving images.unsplash.com (images.unsplash.com)... 151.101.2.208, 151.101.66.208, 151.101.130.208, ...\n",
            "Connecting to images.unsplash.com (images.unsplash.com)|151.101.2.208|:443... connected.\n",
            "HTTP request sent, awaiting response... 200 OK\n",
            "Length: 903166 (882K) [image/jpeg]\n",
            "Saving to: ‘flower1.jpg’\n",
            "\n",
            "flower1.jpg         100%[===================>] 882.00K  --.-KB/s    in 0.04s   \n",
            "\n",
            "2024-10-31 22:55:40 (22.0 MB/s) - ‘flower1.jpg’ saved [903166/903166]\n",
            "\n",
            "--2024-10-31 22:55:40--  https://images.unsplash.com/photo-1516979187457-637abb4f9353\n",
            "Resolving images.unsplash.com (images.unsplash.com)... 151.101.2.208, 151.101.66.208, 151.101.130.208, ...\n",
            "Connecting to images.unsplash.com (images.unsplash.com)|151.101.2.208|:443... connected.\n",
            "HTTP request sent, awaiting response... 200 OK\n",
            "Length: 2003605 (1.9M) [image/jpeg]\n",
            "Saving to: ‘flower2.jpg’\n",
            "\n",
            "flower2.jpg         100%[===================>]   1.91M  --.-KB/s    in 0.05s   \n",
            "\n",
            "2024-10-31 22:55:40 (40.6 MB/s) - ‘flower2.jpg’ saved [2003605/2003605]\n",
            "\n",
            "--2024-10-31 22:55:40--  https://images.unsplash.com/photo-1557683316-973673baf926\n",
            "Resolving images.unsplash.com (images.unsplash.com)... 151.101.2.208, 151.101.66.208, 151.101.130.208, ...\n",
            "Connecting to images.unsplash.com (images.unsplash.com)|151.101.2.208|:443... connected.\n",
            "HTTP request sent, awaiting response... 200 OK\n",
            "Length: 1860674 (1.8M) [image/jpeg]\n",
            "Saving to: ‘bird2.jpg’\n",
            "\n",
            "bird2.jpg           100%[===================>]   1.77M  --.-KB/s    in 0.05s   \n",
            "\n",
            "2024-10-31 22:55:40 (37.9 MB/s) - ‘bird2.jpg’ saved [1860674/1860674]\n",
            "\n"
          ]
        }
      ]
    },
    {
      "cell_type": "code",
      "source": [
        "def load_image(image_path):\n",
        "    img = Image.open(image_path)          # Open the image\n",
        "    img = preprocess(img).unsqueeze(0)    # Apply preprocessing and add batch dimension\n",
        "    return img\n"
      ],
      "metadata": {
        "id": "YK5httUQZ5Qu"
      },
      "execution_count": 10,
      "outputs": []
    },
    {
      "cell_type": "code",
      "source": [
        "def predict_image_class(image_path):\n",
        "    img_tensor = load_image(image_path)        # Load and preprocess image\n",
        "    with torch.no_grad():                      # Disable gradient calculations\n",
        "        output = model(img_tensor)             # Forward pass\n",
        "    probabilities = torch.nn.functional.softmax(output[0], dim=0)  # Convert to probabilities\n",
        "\n",
        "    # Get the top 5 predicted classes\n",
        "    _, top5_indices = torch.topk(probabilities, 5)\n",
        "    return top5_indices, probabilities[top5_indices]\n"
      ],
      "metadata": {
        "id": "04uMNowqZ-1d"
      },
      "execution_count": 11,
      "outputs": []
    },
    {
      "cell_type": "code",
      "source": [
        "import json\n",
        "import requests\n",
        "\n",
        "url = \"https://raw.githubusercontent.com/anishathalye/imagenet-simple-labels/master/imagenet-simple-labels.json\"\n",
        "labels = requests.get(url).json()\n"
      ],
      "metadata": {
        "id": "O8UHZ9liaEWB"
      },
      "execution_count": 12,
      "outputs": []
    },
    {
      "cell_type": "code",
      "source": [
        "def print_predictions(image_path):\n",
        "    top5_indices, top5_probs = predict_image_class(image_path)\n",
        "    for idx, prob in zip(top5_indices, top5_probs):\n",
        "        print(f\"{labels[idx]}: {prob:.4f}\")\n"
      ],
      "metadata": {
        "id": "E394CJaxaHYb"
      },
      "execution_count": 13,
      "outputs": []
    },
    {
      "cell_type": "code",
      "source": [
        "print_predictions(\"dog1.jpg\")"
      ],
      "metadata": {
        "colab": {
          "base_uri": "https://localhost:8080/"
        },
        "id": "6XzujHIyacy6",
        "outputId": "dc30ba5b-489e-4eae-a71c-c5aafaa8ede2"
      },
      "execution_count": 14,
      "outputs": [
        {
          "output_type": "stream",
          "name": "stdout",
          "text": [
            "pug: 0.9675\n",
            "Griffon Bruxellois: 0.0262\n",
            "French Bulldog: 0.0020\n",
            "Boston Terrier: 0.0004\n",
            "Bullmastiff: 0.0004\n"
          ]
        }
      ]
    },
    {
      "cell_type": "code",
      "source": [
        "print_predictions(\"dog2.jpg\")\n"
      ],
      "metadata": {
        "colab": {
          "base_uri": "https://localhost:8080/"
        },
        "id": "gJJtnAGcb7LO",
        "outputId": "74501428-76e7-4722-ea0a-b2faf75934e5"
      },
      "execution_count": 15,
      "outputs": [
        {
          "output_type": "stream",
          "name": "stdout",
          "text": [
            "Border Collie: 0.5926\n",
            "Japanese Chin: 0.1174\n",
            "collie: 0.0945\n",
            "Papillon: 0.0664\n",
            "English Setter: 0.0228\n"
          ]
        }
      ]
    },
    {
      "cell_type": "code",
      "source": [
        "print_predictions(\"cat1.jpg\")"
      ],
      "metadata": {
        "colab": {
          "base_uri": "https://localhost:8080/"
        },
        "id": "-UCftH3-hwss",
        "outputId": "498c3fe7-86f8-493a-90f3-93eccd3026f6"
      },
      "execution_count": 16,
      "outputs": [
        {
          "output_type": "stream",
          "name": "stdout",
          "text": [
            "tabby cat: 0.6762\n",
            "tiger cat: 0.2017\n",
            "Egyptian Mau: 0.1200\n",
            "carton: 0.0004\n",
            "lynx: 0.0003\n"
          ]
        }
      ]
    },
    {
      "cell_type": "code",
      "source": [
        "print_predictions(\"cat2.jpg\")\n"
      ],
      "metadata": {
        "colab": {
          "base_uri": "https://localhost:8080/"
        },
        "id": "binGkOWcybZI",
        "outputId": "11d3df15-dff6-4a70-df16-77f092fe6998"
      },
      "execution_count": 17,
      "outputs": [
        {
          "output_type": "stream",
          "name": "stdout",
          "text": [
            "Egyptian Mau: 0.5895\n",
            "bow tie: 0.2444\n",
            "tabby cat: 0.0858\n",
            "tiger cat: 0.0364\n",
            "poke bonnet: 0.0099\n"
          ]
        }
      ]
    },
    {
      "cell_type": "code",
      "source": [
        "print_predictions(\"car1.jpg\")\n"
      ],
      "metadata": {
        "colab": {
          "base_uri": "https://localhost:8080/"
        },
        "id": "f8BOSuw3ydmB",
        "outputId": "5b1e3add-dae2-4fe0-d07b-d4f415c41849"
      },
      "execution_count": 18,
      "outputs": [
        {
          "output_type": "stream",
          "name": "stdout",
          "text": [
            "taxicab: 0.9131\n",
            "parking meter: 0.0183\n",
            "station wagon: 0.0152\n",
            "car wheel: 0.0150\n",
            "sports car: 0.0058\n"
          ]
        }
      ]
    },
    {
      "cell_type": "code",
      "source": [
        "print_predictions(\"car2.jpg\")\n"
      ],
      "metadata": {
        "colab": {
          "base_uri": "https://localhost:8080/"
        },
        "id": "f0j3uFL3ygHi",
        "outputId": "d3321973-b557-4b01-8bfe-eae033c3eb3e"
      },
      "execution_count": 20,
      "outputs": [
        {
          "output_type": "stream",
          "name": "stdout",
          "text": [
            "sports car: 0.6234\n",
            "car wheel: 0.1727\n",
            "convertible: 0.1326\n",
            "station wagon: 0.0499\n",
            "grille: 0.0154\n"
          ]
        }
      ]
    },
    {
      "cell_type": "code",
      "source": [
        "print_predictions(\"flower1.jpg\")"
      ],
      "metadata": {
        "colab": {
          "base_uri": "https://localhost:8080/"
        },
        "id": "4BJVdWDTy90G",
        "outputId": "46373d8f-5b0a-4039-ebd8-b44b2d733404"
      },
      "execution_count": 21,
      "outputs": [
        {
          "output_type": "stream",
          "name": "stdout",
          "text": [
            "pot: 0.2644\n",
            "vase: 0.1658\n",
            "cup: 0.0435\n",
            "plectrum: 0.0366\n",
            "barrette: 0.0235\n"
          ]
        }
      ]
    },
    {
      "cell_type": "code",
      "source": [
        "print_predictions(\"flower2.jpg\")"
      ],
      "metadata": {
        "colab": {
          "base_uri": "https://localhost:8080/"
        },
        "id": "ItGefgcJzHi4",
        "outputId": "26d4dcb9-3180-49d9-f700-87cc0a21a368"
      },
      "execution_count": 23,
      "outputs": [
        {
          "output_type": "stream",
          "name": "stdout",
          "text": [
            "pill bottle: 0.2361\n",
            "match: 0.1679\n",
            "eraser: 0.1258\n",
            "carton: 0.1002\n",
            "accordion: 0.0691\n"
          ]
        }
      ]
    },
    {
      "cell_type": "code",
      "source": [
        "print_predictions(\"bird1.jpg\")"
      ],
      "metadata": {
        "colab": {
          "base_uri": "https://localhost:8080/"
        },
        "id": "aKtsM3JuzNLf",
        "outputId": "071e9cec-9b8d-477c-de8e-15bae8074c7e"
      },
      "execution_count": 25,
      "outputs": [
        {
          "output_type": "stream",
          "name": "stdout",
          "text": [
            "wing: 0.0546\n",
            "lighthouse: 0.0268\n",
            "space shuttle: 0.0229\n",
            "water bottle: 0.0197\n",
            "seashore: 0.0196\n"
          ]
        }
      ]
    },
    {
      "cell_type": "code",
      "source": [
        "print_predictions(\"bird2.jpg\")"
      ],
      "metadata": {
        "colab": {
          "base_uri": "https://localhost:8080/"
        },
        "id": "ZM7ERIDXzRBg",
        "outputId": "bf20ba80-8315-48b4-d92d-05f7335ec431"
      },
      "execution_count": 26,
      "outputs": [
        {
          "output_type": "stream",
          "name": "stdout",
          "text": [
            "wing: 0.0546\n",
            "lighthouse: 0.0268\n",
            "space shuttle: 0.0229\n",
            "water bottle: 0.0197\n",
            "seashore: 0.0196\n"
          ]
        }
      ]
    }
  ]
}